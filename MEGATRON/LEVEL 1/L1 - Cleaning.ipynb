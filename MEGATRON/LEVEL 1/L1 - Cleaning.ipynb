{
 "cells": [
  {
   "cell_type": "code",
   "execution_count": 1,
   "id": "905bd9b4",
   "metadata": {},
   "outputs": [],
   "source": [
    "import pandas as pd"
   ]
  },
  {
   "cell_type": "code",
   "execution_count": 2,
   "id": "086778b4",
   "metadata": {},
   "outputs": [],
   "source": [
    "df_parameters = pd.read_excel(\"../DATA OLD/PARAMETERS_OLD.xlsx\")\n",
    "df_sales = pd.read_excel(\"../DATA CURRENT/SALES.xlsx\")"
   ]
  },
  {
   "cell_type": "code",
   "execution_count": 3,
   "id": "4cb63d83",
   "metadata": {},
   "outputs": [
    {
     "name": "stdout",
     "output_type": "stream",
     "text": [
      "<class 'pandas.core.frame.DataFrame'>\n",
      "RangeIndex: 1961 entries, 0 to 1960\n",
      "Data columns (total 18 columns):\n",
      " #   Column              Non-Null Count  Dtype  \n",
      "---  ------              --------------  -----  \n",
      " 0   Item Code           1961 non-null   object \n",
      " 1   Layout              1961 non-null   object \n",
      " 2   Sensing Element     1848 non-null   object \n",
      " 3   Case Material       1681 non-null   object \n",
      " 4   Cable Material      1675 non-null   object \n",
      " 5   Cable Length        1648 non-null   float64\n",
      " 6   Terminal            1517 non-null   object \n",
      " 7   Material            455 non-null    object \n",
      " 8   R0                  455 non-null    object \n",
      " 9   Class               595 non-null    object \n",
      " 10  TC Type             202 non-null    object \n",
      " 11  R25                 981 non-null    object \n",
      " 12  B25/85              964 non-null    float64\n",
      " 13  Case Diameter       1564 non-null   object \n",
      " 14  Case Length         1614 non-null   object \n",
      " 15  Case HEX            146 non-null    float64\n",
      " 16  Case Thread         37 non-null     object \n",
      " 17  Cable Wires Number  1641 non-null   float64\n",
      "dtypes: float64(4), object(14)\n",
      "memory usage: 275.9+ KB\n"
     ]
    }
   ],
   "source": [
    "df_parameters.info()"
   ]
  },
  {
   "cell_type": "code",
   "execution_count": 4,
   "id": "2451844c",
   "metadata": {},
   "outputs": [
    {
     "name": "stdout",
     "output_type": "stream",
     "text": [
      "<class 'pandas.core.frame.DataFrame'>\n",
      "RangeIndex: 47400 entries, 0 to 47399\n",
      "Data columns (total 7 columns):\n",
      " #   Column             Non-Null Count  Dtype         \n",
      "---  ------             --------------  -----         \n",
      " 0   Document number    47400 non-null  int64         \n",
      " 1   Item Code          47400 non-null  object        \n",
      " 2   Description        47400 non-null  object        \n",
      " 3   Status             47400 non-null  object        \n",
      " 4   Quantity           47400 non-null  int64         \n",
      " 5   Price              47400 non-null  float64       \n",
      " 6   Registration date  47400 non-null  datetime64[ns]\n",
      "dtypes: datetime64[ns](1), float64(1), int64(2), object(3)\n",
      "memory usage: 2.5+ MB\n"
     ]
    }
   ],
   "source": [
    "df_sales.info()"
   ]
  },
  {
   "cell_type": "code",
   "execution_count": 5,
   "id": "8a4a163f",
   "metadata": {},
   "outputs": [
    {
     "data": {
      "text/plain": [
       "array(['ORDINATO', 'QUOTATO'], dtype=object)"
      ]
     },
     "execution_count": 5,
     "metadata": {},
     "output_type": "execute_result"
    }
   ],
   "source": [
    "df_sales[\"Status\"].unique()"
   ]
  },
  {
   "cell_type": "markdown",
   "id": "65bd3842",
   "metadata": {},
   "source": [
    "# LEVEL 1 - Cleaning Parameters"
   ]
  },
  {
   "cell_type": "markdown",
   "id": "4a3b8096",
   "metadata": {},
   "source": [
    "## Null Values in LVL 1 Parameters"
   ]
  },
  {
   "cell_type": "code",
   "execution_count": 6,
   "id": "71f85c79",
   "metadata": {},
   "outputs": [
    {
     "name": "stdout",
     "output_type": "stream",
     "text": [
      "Number of rows removed: 673\n"
     ]
    }
   ],
   "source": [
    "# Identify and save the rows with missing values in the specified columns\n",
    "columns_to_check = ['Layout', 'Sensing Element', 'Case Material', 'Cable Material', 'Cable Length', 'Terminal']\n",
    "df_missing = df_parameters[df_parameters[columns_to_check].isnull().any(axis=1)]\n",
    "\n",
    "# Remove rows with missing values in the specified columns to create df_1_cleaned\n",
    "df_parameters_cleaned = df_parameters.dropna(subset=columns_to_check)\n",
    "\n",
    "# Display the number of rows removed\n",
    "rows_removed = len(df_parameters) - len(df_parameters_cleaned)\n",
    "print(f\"Number of rows removed: {rows_removed}\")\n",
    "\n",
    "# Save the deleted rows to an Excel file\n",
    "df_missing.to_excel('../DELETED ITEMS/MISSING_PARAMETERS_LVL1.xlsx', index=False)"
   ]
  },
  {
   "cell_type": "markdown",
   "id": "8a1530fb",
   "metadata": {},
   "source": [
    "## Remove Sensors without Sales"
   ]
  },
  {
   "cell_type": "code",
   "execution_count": 7,
   "id": "bf5f0dc0",
   "metadata": {},
   "outputs": [],
   "source": [
    "# Identify items in df_parameters_cleaned but not in df_sales\n",
    "missing_items = df_parameters_cleaned[~df_parameters_cleaned['Item Code'].isin(df_sales['Item Code'])]\n",
    "\n",
    "# Update df_parameters_cleaned to only include items present in df_sales\n",
    "df_parameters_cleaned = df_parameters_cleaned[df_parameters_cleaned['Item Code'].isin(df_sales['Item Code'])]\n",
    "\n",
    "# Save the missing items to an Excel file\n",
    "missing_items.to_excel('../DELETED ITEMS/MISSING_SALES_LVL1.xlsx', index=False)"
   ]
  },
  {
   "cell_type": "markdown",
   "id": "5037da2d",
   "metadata": {},
   "source": [
    "## Remove Non-Level 1 Columns"
   ]
  },
  {
   "cell_type": "code",
   "execution_count": 8,
   "id": "e25cd676",
   "metadata": {},
   "outputs": [],
   "source": [
    "columns_to_keep = ['Item Code', 'Layout', 'Sensing Element', 'Case Material', 'Cable Material', 'Cable Length', 'Terminal']\n",
    "df_parameters_cleaned = df_parameters_cleaned[columns_to_keep]"
   ]
  },
  {
   "cell_type": "code",
   "execution_count": 9,
   "id": "0ea9ae49",
   "metadata": {},
   "outputs": [
    {
     "name": "stdout",
     "output_type": "stream",
     "text": [
      "<class 'pandas.core.frame.DataFrame'>\n",
      "Int64Index: 1266 entries, 1 to 1958\n",
      "Data columns (total 7 columns):\n",
      " #   Column           Non-Null Count  Dtype  \n",
      "---  ------           --------------  -----  \n",
      " 0   Item Code        1266 non-null   object \n",
      " 1   Layout           1266 non-null   object \n",
      " 2   Sensing Element  1266 non-null   object \n",
      " 3   Case Material    1266 non-null   object \n",
      " 4   Cable Material   1266 non-null   object \n",
      " 5   Cable Length     1266 non-null   float64\n",
      " 6   Terminal         1266 non-null   object \n",
      "dtypes: float64(1), object(6)\n",
      "memory usage: 79.1+ KB\n"
     ]
    }
   ],
   "source": [
    "df_parameters_cleaned.info()"
   ]
  },
  {
   "cell_type": "markdown",
   "id": "b313aca7",
   "metadata": {},
   "source": [
    "## Download Cleaned Parameters "
   ]
  },
  {
   "cell_type": "code",
   "execution_count": 10,
   "id": "beb2d371",
   "metadata": {},
   "outputs": [],
   "source": [
    "df_parameters_cleaned.to_excel(\"../DATA CURRENT/L1-PARAMETERS.xlsx\", index = False)"
   ]
  }
 ],
 "metadata": {
  "kernelspec": {
   "display_name": "Python 3 (ipykernel)",
   "language": "python",
   "name": "python3"
  },
  "language_info": {
   "codemirror_mode": {
    "name": "ipython",
    "version": 3
   },
   "file_extension": ".py",
   "mimetype": "text/x-python",
   "name": "python",
   "nbconvert_exporter": "python",
   "pygments_lexer": "ipython3",
   "version": "3.11.4"
  }
 },
 "nbformat": 4,
 "nbformat_minor": 5
}
