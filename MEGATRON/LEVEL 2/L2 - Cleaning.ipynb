{
 "cells": [
  {
   "cell_type": "code",
   "execution_count": 69,
   "id": "282392c7",
   "metadata": {},
   "outputs": [],
   "source": [
    "import pandas as pd\n",
    "import re"
   ]
  },
  {
   "cell_type": "code",
   "execution_count": 70,
   "id": "f1c06dd6",
   "metadata": {},
   "outputs": [],
   "source": [
    "df = pd.read_excel(\"../DATA OLD/PARAMETERS_OLD.xlsx\")\n",
    "df_sales = pd.read_excel(\"../DATA CURRENT/SALES.xlsx\")"
   ]
  },
  {
   "cell_type": "markdown",
   "id": "b83814f4",
   "metadata": {},
   "source": [
    "# Numeric and Categorical Parameters"
   ]
  },
  {
   "cell_type": "markdown",
   "id": "37070b6b",
   "metadata": {},
   "source": [
    "# Change once Andrea gets back!!!!"
   ]
  },
  {
   "cell_type": "code",
   "execution_count": 71,
   "id": "7a45da85",
   "metadata": {
    "scrolled": true
   },
   "outputs": [
    {
     "data": {
      "text/plain": [
       "Item Code              object\n",
       "Layout                 object\n",
       "Sensing Element        object\n",
       "Case Material          object\n",
       "Cable Material         object\n",
       "Cable Length          float64\n",
       "Terminal               object\n",
       "Material               object\n",
       "R0                     object\n",
       "Class                  object\n",
       "TC Type                object\n",
       "R25                    object\n",
       "B25/85                float64\n",
       "Case Diameter          object\n",
       "Case Length            object\n",
       "Case HEX              float64\n",
       "Case Thread            object\n",
       "Cable Wires Number    float64\n",
       "dtype: object"
      ]
     },
     "execution_count": 71,
     "metadata": {},
     "output_type": "execute_result"
    }
   ],
   "source": [
    "df.dtypes"
   ]
  },
  {
   "cell_type": "markdown",
   "id": "ead943f8",
   "metadata": {},
   "source": [
    "**Case Diameter and Case Length are not reading as numeric variables -> need to convert** "
   ]
  },
  {
   "cell_type": "markdown",
   "id": "8d54de78",
   "metadata": {},
   "source": [
    "**Case Length**: 40/F20+20, 40/F30+10 and commas instead of decimal points"
   ]
  },
  {
   "cell_type": "code",
   "execution_count": 72,
   "id": "96a68351",
   "metadata": {},
   "outputs": [],
   "source": [
    "#Case Length\n",
    "df['Case Length'] = df['Case Length'].astype(str).str.split('/').str[0].str.replace(',', '.').astype(float)"
   ]
  },
  {
   "cell_type": "markdown",
   "id": "7360aa20",
   "metadata": {},
   "source": [
    "**Case Diameter**: "
   ]
  },
  {
   "cell_type": "code",
   "execution_count": 73,
   "id": "1a943a14",
   "metadata": {},
   "outputs": [],
   "source": [
    "# Function to extract the numeric part before any non-numeric characters\n",
    "def extract_numeric(value):\n",
    "    # Use regular expression to find the first numeric part\n",
    "    match = re.match(r\"(\\d+)\", value)\n",
    "    return match.group(1) if match else value\n",
    "\n",
    "# Clean the 'Case Diameter' column\n",
    "df['Case Diameter'] = df['Case Diameter'].astype(str).str.replace(',', '.').apply(extract_numeric).astype(float)"
   ]
  },
  {
   "cell_type": "markdown",
   "id": "f508e1f6",
   "metadata": {},
   "source": [
    "# Removing Case Thread"
   ]
  },
  {
   "cell_type": "code",
   "execution_count": 74,
   "id": "30e8f3de",
   "metadata": {},
   "outputs": [],
   "source": [
    "df = df.drop('Case Thread', axis=1)"
   ]
  },
  {
   "cell_type": "markdown",
   "id": "6ce4c13e",
   "metadata": {},
   "source": [
    "# Missing Parameters "
   ]
  },
  {
   "cell_type": "code",
   "execution_count": 75,
   "id": "742b16e6",
   "metadata": {},
   "outputs": [],
   "source": [
    "# Remove rows with missing values in Level 1\n",
    "df_cleaned = df.dropna(subset=['Layout', 'Sensing Element', 'Case Material', 'Cable Material', 'Cable Length', 'Terminal'])\n",
    "\n",
    "# Remove rows with missing values in columns applicable for all sensors \n",
    "df_cleaned = df_cleaned.dropna(subset=['Case Length', 'Case Diameter', \"Cable Wires Number\"])\n",
    "\n",
    "# If “Layout” is THREADED and “Case HEX” is empty, remove the row\n",
    "df_cleaned = df_cleaned[~((df_cleaned['Layout'] == 'Threaded') & (df_cleaned['Case HEX'].isna()))]\n",
    "\n",
    "# When “Sensing Element” is NTC, remove rows if “R25” and/or “B25/85” is empty\n",
    "df_cleaned = df_cleaned[~((df_cleaned['Sensing Element'] == 'NTC') & (df_cleaned[['R25', 'B25/85']].isna().any(axis=1)))]\n",
    "\n",
    "# When “Sensing Element” is PTC, remove rows if “Class” is empty\n",
    "df_cleaned = df_cleaned[~((df_cleaned['Sensing Element'] == 'PTC') & (df_cleaned['Class'].isna()))]\n",
    "\n",
    "# When “Sensing Element” is RTD, remove rows if “Material”, “R0” or “Class” is empty\n",
    "df_cleaned = df_cleaned[~((df_cleaned['Sensing Element'] == 'RTD') & (df_cleaned[['Material', 'R0', 'Class']].isna().any(axis=1)))]\n",
    "\n",
    "# When “Sensing Element” is MG0, remove rows if “TC Type” is empty\n",
    "df_cleaned = df_cleaned[~((df_cleaned['Sensing Element'] == 'MGO') & (df_cleaned['TC Type'].isna()))]\n",
    "\n",
    "# When “Sensing Element” is TCx, remove rows if “TC Type” is empty\n",
    "df_cleaned = df_cleaned[~((df_cleaned['Sensing Element'] == 'TCx') & (df_cleaned['TC Type'].isna()))]\n",
    "\n",
    "# Identify and separate the deleted rows according to the provided rules\n",
    "deleted_rows = df[~df.index.isin(df_cleaned.index)]\n",
    "\n",
    "# Save the deleted rows to a separate excel file\n",
    "deleted_rows.to_excel('../DELETED ITEMS/MISSING_PARAMETERS_LVL2.xlsx', index=False)"
   ]
  },
  {
   "cell_type": "markdown",
   "id": "cea96540",
   "metadata": {},
   "source": [
    "# Missing Sales"
   ]
  },
  {
   "cell_type": "code",
   "execution_count": 76,
   "id": "b39b4809",
   "metadata": {},
   "outputs": [],
   "source": [
    "# Identify items in df_cleaned but not in df_sales\n",
    "missing_items = df_cleaned[~df_cleaned['Item Code'].isin(df_sales['Item Code'])]\n",
    "\n",
    "# Update df_cleaned to only include items present in df_sales\n",
    "df_cleaned = df_cleaned[df_cleaned['Item Code'].isin(df_sales['Item Code'])]\n",
    "\n",
    "# Save the missing items to an Excel file\n",
    "missing_items.to_excel('../DELETED ITEMS/MISSING_SALES_LVL2.xlsx', index=False)"
   ]
  },
  {
   "cell_type": "markdown",
   "id": "26a76be9",
   "metadata": {},
   "source": [
    "# Download Cleaned Parameters"
   ]
  },
  {
   "cell_type": "code",
   "execution_count": 77,
   "id": "0556cc65",
   "metadata": {},
   "outputs": [],
   "source": [
    "# Save the cleaned dataset as well\n",
    "df_cleaned.to_excel('../DATA CURRENT/L2-PARAMETERS.xlsx', index=False)"
   ]
  }
 ],
 "metadata": {
  "kernelspec": {
   "display_name": "Python 3 (ipykernel)",
   "language": "python",
   "name": "python3"
  },
  "language_info": {
   "codemirror_mode": {
    "name": "ipython",
    "version": 3
   },
   "file_extension": ".py",
   "mimetype": "text/x-python",
   "name": "python",
   "nbconvert_exporter": "python",
   "pygments_lexer": "ipython3",
   "version": "3.11.4"
  }
 },
 "nbformat": 4,
 "nbformat_minor": 5
}
